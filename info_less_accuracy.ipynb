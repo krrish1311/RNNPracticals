{
 "cells": [
  {
   "cell_type": "code",
   "execution_count": 1,
   "metadata": {},
   "outputs": [],
   "source": [
    "import pandas as pd\n",
    "import numpy as np \n",
    "import matplotlib.pyplot as plt "
   ]
  },
  {
   "cell_type": "code",
   "execution_count": 2,
   "metadata": {},
   "outputs": [],
   "source": [
    "dataset = pd.read_csv(\"INFY.NS.csv\")"
   ]
  },
  {
   "cell_type": "code",
   "execution_count": 3,
   "metadata": {},
   "outputs": [],
   "source": [
    "current_value = dataset['Open']"
   ]
  },
  {
   "cell_type": "code",
   "execution_count": 4,
   "metadata": {},
   "outputs": [
    {
     "data": {
      "text/plain": [
       "array([ 710.200012,  735.400024,  732.799988,  737.25    ,  737.349976,\n",
       "        755.      ,  765.200012,  769.400024,  784.900024,  780.      ,\n",
       "        773.5     ,  788.      ,  792.950012,  799.      ,  900.099976,\n",
       "        911.      ,  908.5     ,  945.      ,  938.950012,  915.650024,\n",
       "        903.25    ,  921.549988,  946.      ,  953.25    ,  962.      ,\n",
       "        969.25    ,  960.      ,  960.450012,  952.      ,  953.5     ,\n",
       "        969.450012,  948.900024,  949.900024,  948.      ,  954.799988,\n",
       "        955.849976,  954.099976,  963.900024,  970.900024,  958.900024,\n",
       "        963.049988,  947.      ,  947.5     ,  941.25    ,  960.      ,\n",
       "        951.450012,  935.25    ,  926.25    ,  915.      ,  926.5     ,\n",
       "        915.      ,  918.900024,  929.950012,  935.      ,  935.299988,\n",
       "        934.900024,  957.      ,  979.5     ,  986.      ,  995.      ,\n",
       "       1011.      , 1001.      , 1009.      , 1020.150024, 1003.      ,\n",
       "        975.799988, 1014.799988, 1018.      , 1009.      , 1020.599976,\n",
       "       1018.049988, 1055.      , 1044.900024, 1090.      , 1095.099976,\n",
       "       1123.      , 1135.550049, 1162.      , 1180.      , 1113.849976,\n",
       "       1135.      , 1118.900024, 1141.150024, 1142.      , 1133.      ,\n",
       "       1122.25    , 1105.699951, 1095.5     , 1070.      , 1072.      ,\n",
       "       1065.      , 1072.      , 1068.      , 1109.900024, 1108.      ,\n",
       "       1129.300049, 1113.849976, 1096.      , 1128.099976, 1120.      ,\n",
       "               nan, 1144.75    , 1128.5     , 1100.      , 1106.      ,\n",
       "       1105.      , 1145.      , 1137.      , 1119.949951, 1118.      ,\n",
       "       1105.050049, 1134.      , 1147.      , 1125.      , 1147.300049,\n",
       "       1145.      , 1168.050049, 1157.400024, 1159.699951, 1169.400024,\n",
       "       1156.      , 1160.      , 1165.900024, 1182.849976, 1188.      ,\n",
       "       1182.      , 1238.      , 1249.900024, 1238.449951, 1235.      ,\n",
       "       1253.      , 1243.      , 1257.900024, 1269.      , 1282.      ,\n",
       "       1300.      , 1296.      , 1278.25    , 1342.099976, 1378.      ,\n",
       "       1373.849976, 1360.      , 1360.      , 1338.      , 1320.      ,\n",
       "       1320.550049, 1350.      , 1327.      , 1345.      , 1319.599976,\n",
       "       1291.800049, 1286.25    , 1250.550049, 1280.      , 1277.650024,\n",
       "       1285.      , 1286.400024, 1285.5     , 1306.900024, 1295.800049,\n",
       "       1289.      , 1305.      , 1320.      , 1314.      , 1290.400024,\n",
       "       1276.      , 1296.099976, 1295.      , 1271.150024, 1260.050049,\n",
       "       1288.449951, 1269.      , 1263.300049, 1282.25    , 1319.199951,\n",
       "       1335.      , 1328.5     , 1324.800049, 1329.5     , 1356.900024,\n",
       "       1373.      , 1370.      , 1386.050049, 1392.25    , 1393.75    ,\n",
       "       1330.      , 1350.099976, 1372.449951, 1357.849976, 1346.75    ,\n",
       "       1344.699951, 1346.900024, 1382.      , 1380.      , 1391.      ,\n",
       "       1423.      , 1410.25    , 1430.      , 1455.      , 1474.      ,\n",
       "       1433.      , 1332.300049, 1365.      , 1340.      , 1379.      ,\n",
       "       1355.550049, 1343.      , 1332.25    , 1346.      , 1358.      ,\n",
       "       1368.      , 1346.300049, 1340.800049, 1354.      , 1341.099976,\n",
       "       1345.      , 1365.300049, 1349.849976, 1336.900024, 1330.      ,\n",
       "       1326.849976, 1320.300049, 1338.      , 1342.      , 1348.400024,\n",
       "       1347.5     , 1356.650024, 1358.      , 1367.900024, 1404.199951,\n",
       "       1409.75    , 1401.5     , 1400.      , 1380.75    , 1388.099976,\n",
       "       1393.949951, 1391.      , 1396.      , 1413.400024, 1424.      ,\n",
       "       1430.099976, 1471.      , 1464.      , 1472.699951, 1475.099976,\n",
       "       1509.      , 1493.      , 1509.699951, 1525.      , 1517.      ,\n",
       "       1572.      ])"
      ]
     },
     "execution_count": 4,
     "metadata": {},
     "output_type": "execute_result"
    }
   ],
   "source": [
    "current_value.values"
   ]
  },
  {
   "cell_type": "code",
   "execution_count": 5,
   "metadata": {},
   "outputs": [
    {
     "data": {
      "text/plain": [
       "nan"
      ]
     },
     "execution_count": 5,
     "metadata": {},
     "output_type": "execute_result"
    }
   ],
   "source": [
    "current_value[100]"
   ]
  },
  {
   "cell_type": "code",
   "execution_count": 6,
   "metadata": {},
   "outputs": [],
   "source": [
    "dataset = dataset.drop([100])"
   ]
  },
  {
   "cell_type": "code",
   "execution_count": 7,
   "metadata": {},
   "outputs": [],
   "source": [
    "d = dataset.values"
   ]
  },
  {
   "cell_type": "code",
   "execution_count": 8,
   "metadata": {},
   "outputs": [],
   "source": [
    "import seaborn as sns "
   ]
  },
  {
   "cell_type": "code",
   "execution_count": 9,
   "metadata": {},
   "outputs": [
    {
     "data": {
      "text/plain": [
       "<AxesSubplot:>"
      ]
     },
     "execution_count": 9,
     "metadata": {},
     "output_type": "execute_result"
    },
    {
     "data": {
      "image/png": "[encoded data removed]",
      "text/plain": [
       "<Figure size 432x288 with 2 Axes>"
      ]
     },
     "metadata": {
      "needs_background": "light"
     },
     "output_type": "display_data"
    }
   ],
   "source": [
    "sns.heatmap(dataset.isnull())"
   ]
  },
  {
   "cell_type": "code",
   "execution_count": 10,
   "metadata": {},
   "outputs": [],
   "source": [
    "price = dataset['Open']"
   ]
  },
  {
   "cell_type": "code",
   "execution_count": 11,
   "metadata": {},
   "outputs": [
    {
     "data": {
      "text/plain": [
       "0       710.200012\n",
       "1       735.400024\n",
       "2       732.799988\n",
       "3       737.250000\n",
       "4       737.349976\n",
       "          ...     \n",
       "246    1493.000000\n",
       "247    1509.699951\n",
       "248    1525.000000\n",
       "249    1517.000000\n",
       "250    1572.000000\n",
       "Name: Open, Length: 250, dtype: float64"
      ]
     },
     "execution_count": 11,
     "metadata": {},
     "output_type": "execute_result"
    }
   ],
   "source": [
    "price"
   ]
  },
  {
   "cell_type": "code",
   "execution_count": 12,
   "metadata": {},
   "outputs": [
    {
     "data": {
      "text/plain": [
       "1144.75"
      ]
     },
     "execution_count": 12,
     "metadata": {},
     "output_type": "execute_result"
    }
   ],
   "source": [
    "price.values[100]"
   ]
  },
  {
   "cell_type": "code",
   "execution_count": 13,
   "metadata": {},
   "outputs": [],
   "source": [
    "current = dataset['Open']\n",
    "current_final = current.drop([200])"
   ]
  },
  {
   "cell_type": "code",
   "execution_count": 14,
   "metadata": {},
   "outputs": [
    {
     "data": {
      "text/plain": [
       "(250,)"
      ]
     },
     "execution_count": 14,
     "metadata": {},
     "output_type": "execute_result"
    }
   ],
   "source": [
    "price.shape"
   ]
  },
  {
   "cell_type": "code",
   "execution_count": 15,
   "metadata": {},
   "outputs": [],
   "source": [
    "price = price.values"
   ]
  },
  {
   "cell_type": "code",
   "execution_count": 16,
   "metadata": {},
   "outputs": [],
   "source": [
    "def datagen(data , glance) :\n",
    "    x_t = []\n",
    "    y_t = []\n",
    "    for i in range(len(data) - glance) :\n",
    "        #if data[i] is not nan :\n",
    "            x_t.append(data[i:i+glance])\n",
    "            y_t.append(data[i+glance])\n",
    "            \n",
    "    return x_t , y_t        "
   ]
  },
  {
   "cell_type": "code",
   "execution_count": null,
   "metadata": {},
   "outputs": [],
   "source": []
  },
  {
   "cell_type": "code",
   "execution_count": 17,
   "metadata": {},
   "outputs": [],
   "source": [
    "from keras.models import Sequential\n",
    "mind = Sequential()\n",
    "from keras.layers import LSTM\n",
    "from keras.layers  import Dense\n",
    "mind.add(LSTM(units=521, return_sequences = True , activation = 'tanh'))\n",
    "mind.add(LSTM(units=128 ,activation='tanh'))\n",
    "mind.add(Dense(units = 64, activation = 'relu' ))\n",
    "mind.add(Dense(units = 32, activation = 'relu' ))\n",
    "mind.add(Dense(units = 1, activation = 'linear' ))\n",
    "mind.compile(optimizer='rmsprop' , loss = 'mean_squared_error')"
   ]
  },
  {
   "cell_type": "code",
   "execution_count": null,
   "metadata": {},
   "outputs": [],
   "source": []
  },
  {
   "cell_type": "code",
   "execution_count": 18,
   "metadata": {},
   "outputs": [
    {
     "name": "stdout",
     "output_type": "stream",
     "text": [
      "Epoch 1/50\n",
      "8/8 [==============================] - 36s 58ms/step - loss: 1471179.7500\n",
      "Epoch 2/50\n",
      "8/8 [==============================] - 0s 61ms/step - loss: 1369113.7361\n",
      "Epoch 3/50\n",
      "8/8 [==============================] - 0s 59ms/step - loss: 1338441.5556\n",
      "Epoch 4/50\n",
      "8/8 [==============================] - 0s 58ms/step - loss: 1324896.8889\n",
      "Epoch 5/50\n",
      "8/8 [==============================] - 0s 59ms/step - loss: 1302205.8472\n",
      "Epoch 6/50\n",
      "8/8 [==============================] - 0s 59ms/step - loss: 1199820.6944\n",
      "Epoch 7/50\n",
      "8/8 [==============================] - 0s 61ms/step - loss: 1215702.8889\n",
      "Epoch 8/50\n",
      "8/8 [==============================] - 0s 60ms/step - loss: 1114857.4028\n",
      "Epoch 9/50\n",
      "8/8 [==============================] - 1s 63ms/step - loss: 1091123.1944\n",
      "Epoch 10/50\n",
      "8/8 [==============================] - 0s 61ms/step - loss: 1001968.2361\n",
      "Epoch 11/50\n",
      "8/8 [==============================] - 0s 61ms/step - loss: 953329.3472\n",
      "Epoch 12/50\n",
      "8/8 [==============================] - 0s 60ms/step - loss: 895422.6736\n",
      "Epoch 13/50\n",
      "8/8 [==============================] - 0s 60ms/step - loss: 809566.9236\n",
      "Epoch 14/50\n",
      "8/8 [==============================] - 0s 61ms/step - loss: 724425.6181\n",
      "Epoch 15/50\n",
      "8/8 [==============================] - 1s 63ms/step - loss: 672864.1181\n",
      "Epoch 16/50\n",
      "8/8 [==============================] - 1s 64ms/step - loss: 590685.0625\n",
      "Epoch 17/50\n",
      "8/8 [==============================] - 0s 61ms/step - loss: 519861.4132\n",
      "Epoch 18/50\n",
      "8/8 [==============================] - 1s 63ms/step - loss: 442952.0938\n",
      "Epoch 19/50\n",
      "8/8 [==============================] - 1s 63ms/step - loss: 351828.9167\n",
      "Epoch 20/50\n",
      "8/8 [==============================] - 1s 64ms/step - loss: 301958.9306\n",
      "Epoch 21/50\n",
      "8/8 [==============================] - 1s 71ms/step - loss: 229389.7101\n",
      "Epoch 22/50\n",
      "8/8 [==============================] - 1s 68ms/step - loss: 182400.1701\n",
      "Epoch 23/50\n",
      "8/8 [==============================] - 1s 64ms/step - loss: 138194.7222\n",
      "Epoch 24/50\n",
      "8/8 [==============================] - 0s 61ms/step - loss: 93878.7292\n",
      "Epoch 25/50\n",
      "8/8 [==============================] - 0s 61ms/step - loss: 69340.2413\n",
      "Epoch 26/50\n",
      "8/8 [==============================] - 1s 69ms/step - loss: 52075.4575\n",
      "Epoch 27/50\n",
      "8/8 [==============================] - 1s 64ms/step - loss: 39289.6801\n",
      "Epoch 28/50\n",
      "8/8 [==============================] - 1s 65ms/step - loss: 36934.6191\n",
      "Epoch 29/50\n",
      "8/8 [==============================] - 1s 64ms/step - loss: 36815.7118\n",
      "Epoch 30/50\n",
      "8/8 [==============================] - 1s 65ms/step - loss: 33862.2114\n",
      "Epoch 31/50\n",
      "8/8 [==============================] - 1s 69ms/step - loss: 35763.1832\n",
      "Epoch 32/50\n",
      "8/8 [==============================] - 1s 63ms/step - loss: 41709.3605\n",
      "Epoch 33/50\n",
      "8/8 [==============================] - 0s 62ms/step - loss: 35997.1306\n",
      "Epoch 34/50\n",
      "8/8 [==============================] - 0s 61ms/step - loss: 32981.3839\n",
      "Epoch 35/50\n",
      "8/8 [==============================] - 0s 62ms/step - loss: 28489.1456\n",
      "Epoch 36/50\n",
      "8/8 [==============================] - 1s 70ms/step - loss: 38465.9607\n",
      "Epoch 37/50\n",
      "8/8 [==============================] - 0s 62ms/step - loss: 26412.3655\n",
      "Epoch 38/50\n",
      "8/8 [==============================] - 0s 60ms/step - loss: 24432.6230\n",
      "Epoch 39/50\n",
      "8/8 [==============================] - 0s 62ms/step - loss: 14823.6425\n",
      "Epoch 40/50\n",
      "8/8 [==============================] - 0s 60ms/step - loss: 15010.1306\n",
      "Epoch 41/50\n",
      "8/8 [==============================] - 0s 61ms/step - loss: 25502.5217\n",
      "Epoch 42/50\n",
      "8/8 [==============================] - 1s 63ms/step - loss: 5538.8115\n",
      "Epoch 43/50\n",
      "8/8 [==============================] - 0s 62ms/step - loss: 16009.2704\n",
      "Epoch 44/50\n",
      "8/8 [==============================] - 1s 63ms/step - loss: 14968.5901\n",
      "Epoch 45/50\n",
      "8/8 [==============================] - 0s 59ms/step - loss: 20898.3179\n",
      "Epoch 46/50\n",
      "8/8 [==============================] - 0s 60ms/step - loss: 18229.7817\n",
      "Epoch 47/50\n",
      "8/8 [==============================] - 1s 65ms/step - loss: 17153.5923\n",
      "Epoch 48/50\n",
      "8/8 [==============================] - 1s 63ms/step - loss: 9786.1414\n",
      "Epoch 49/50\n",
      "8/8 [==============================] - 1s 67ms/step - loss: 21712.5825\n",
      "Epoch 50/50\n",
      "8/8 [==============================] - 0s 58ms/step - loss: 9684.3773\n"
     ]
    },
    {
     "data": {
      "text/plain": [
       "[<matplotlib.lines.Line2D at 0x1f07350ed00>]"
      ]
     },
     "execution_count": 18,
     "metadata": {},
     "output_type": "execute_result"
    },
    {
     "data": {
      "image/png": "[encoded data removed]",
      "text/plain": [
       "<Figure size 432x288 with 1 Axes>"
      ]
     },
     "metadata": {
      "needs_background": "light"
     },
     "output_type": "display_data"
    }
   ],
   "source": [
    "price_1 , price_2 = datagen(price , 5)\n",
    "price_final =np.array(price_1)\n",
    "price_final.shape\n",
    "y_final = np.array(price_2)\n",
    "X_train_final = np.expand_dims(price_final ,axis=0)\n",
    "X_train_final.shape\n",
    "X_train_final = X_train_final.reshape(245,5,1)\n",
    "y_train_final = y_final.reshape(-1,1)\n",
    "mind.fit(X_train_final,y_train_final , epochs = 50)\n",
    "predict=mind.predict(X_train_final)\n",
    "plt.plot(y_train_final)\n",
    "plt.plot(predict)"
   ]
  },
  {
   "cell_type": "code",
   "execution_count": null,
   "metadata": {},
   "outputs": [],
   "source": [
    "np.array(price_1).shape"
   ]
  },
  {
   "cell_type": "code",
   "execution_count": null,
   "metadata": {},
   "outputs": [],
   "source": [
    "type(price_1 )"
   ]
  },
  {
   "cell_type": "code",
   "execution_count": null,
   "metadata": {},
   "outputs": [],
   "source": []
  },
  {
   "cell_type": "code",
   "execution_count": null,
   "metadata": {},
   "outputs": [],
   "source": [
    "\"\"\"from sklearn.preprocessing import MinMaxScaler\n",
    "normalizer = MinMaxScaler(feature_range=(0,1))\n",
    "X_train = normalizer.fit_transform(price_1)\n",
    "y_train = normalizer.fit_transform(price_2)\n",
    "X_train = X_train.reshape(246,5,1) \"\"\""
   ]
  },
  {
   "cell_type": "code",
   "execution_count": null,
   "metadata": {},
   "outputs": [],
   "source": [
    "type(X_train)"
   ]
  },
  {
   "cell_type": "code",
   "execution_count": null,
   "metadata": {
    "scrolled": true
   },
   "outputs": [],
   "source": [
    "price_1 = np.reshape(price_1 , (246,5,1))"
   ]
  },
  {
   "cell_type": "code",
   "execution_count": null,
   "metadata": {},
   "outputs": [],
   "source": [
    "price_1.shape"
   ]
  },
  {
   "cell_type": "code",
   "execution_count": null,
   "metadata": {},
   "outputs": [],
   "source": [
    "price_2"
   ]
  },
  {
   "cell_type": "code",
   "execution_count": null,
   "metadata": {},
   "outputs": [],
   "source": [
    "dataset[100]"
   ]
  },
  {
   "cell_type": "code",
   "execution_count": null,
   "metadata": {},
   "outputs": [],
   "source": [
    "y_train.shape"
   ]
  },
  {
   "cell_type": "code",
   "execution_count": null,
   "metadata": {},
   "outputs": [],
   "source": [
    "X_train.shape"
   ]
  },
  {
   "cell_type": "code",
   "execution_count": null,
   "metadata": {},
   "outputs": [],
   "source": []
  },
  {
   "cell_type": "code",
   "execution_count": null,
   "metadata": {},
   "outputs": [],
   "source": []
  },
  {
   "cell_type": "code",
   "execution_count": null,
   "metadata": {},
   "outputs": [],
   "source": []
  },
  {
   "cell_type": "code",
   "execution_count": null,
   "metadata": {},
   "outputs": [],
   "source": []
  },
  {
   "cell_type": "code",
   "execution_count": null,
   "metadata": {},
   "outputs": [],
   "source": []
  },
  {
   "cell_type": "code",
   "execution_count": null,
   "metadata": {},
   "outputs": [],
   "source": []
  },
  {
   "cell_type": "code",
   "execution_count": null,
   "metadata": {},
   "outputs": [],
   "source": []
  },
  {
   "cell_type": "code",
   "execution_count": null,
   "metadata": {},
   "outputs": [],
   "source": []
  },
  {
   "cell_type": "code",
   "execution_count": null,
   "metadata": {},
   "outputs": [],
   "source": []
  },
  {
   "cell_type": "code",
   "execution_count": null,
   "metadata": {},
   "outputs": [],
   "source": [
    "price_final =np.array(price_1)\n",
    "price_final.shape\n",
    "y_final = np.array(price_2)\n",
    "X_train_final = np.expand_dims(price_final ,axis=0)\n",
    "X_train_final.shape\n",
    "X_train_final = X_train_final.reshape(245,5,1)\n",
    "y_train_final = y_final.reshape(-1,1)\n",
    "mind.fit(X_train_final,y_train_final , epochs = 50)\n",
    "predict=mind.predict(X_train_final)\n",
    "plt.plot(y_train_final)\n",
    "plt.plot(predict)"
   ]
  },
  {
   "cell_type": "code",
   "execution_count": null,
   "metadata": {},
   "outputs": [],
   "source": []
  },
  {
   "cell_type": "code",
   "execution_count": null,
   "metadata": {},
   "outputs": [],
   "source": []
  },
  {
   "cell_type": "code",
   "execution_count": null,
   "metadata": {},
   "outputs": [],
   "source": []
  },
  {
   "cell_type": "code",
   "execution_count": null,
   "metadata": {},
   "outputs": [],
   "source": []
  },
  {
   "cell_type": "code",
   "execution_count": null,
   "metadata": {},
   "outputs": [],
   "source": []
  },
  {
   "cell_type": "code",
   "execution_count": null,
   "metadata": {},
   "outputs": [],
   "source": []
  },
  {
   "cell_type": "code",
   "execution_count": null,
   "metadata": {},
   "outputs": [],
   "source": []
  },
  {
   "cell_type": "code",
   "execution_count": null,
   "metadata": {},
   "outputs": [],
   "source": []
  },
  {
   "cell_type": "code",
   "execution_count": null,
   "metadata": {},
   "outputs": [],
   "source": []
  },
  {
   "cell_type": "code",
   "execution_count": null,
   "metadata": {},
   "outputs": [],
   "source": [
    "type(y_train)"
   ]
  },
  {
   "cell_type": "code",
   "execution_count": null,
   "metadata": {},
   "outputs": [],
   "source": []
  },
  {
   "cell_type": "code",
   "execution_count": null,
   "metadata": {},
   "outputs": [],
   "source": []
  },
  {
   "cell_type": "code",
   "execution_count": null,
   "metadata": {},
   "outputs": [],
   "source": []
  },
  {
   "cell_type": "code",
   "execution_count": null,
   "metadata": {},
   "outputs": [],
   "source": []
  },
  {
   "cell_type": "code",
   "execution_count": null,
   "metadata": {},
   "outputs": [],
   "source": []
  },
  {
   "cell_type": "code",
   "execution_count": null,
   "metadata": {},
   "outputs": [],
   "source": []
  },
  {
   "cell_type": "code",
   "execution_count": null,
   "metadata": {},
   "outputs": [],
   "source": []
  },
  {
   "cell_type": "code",
   "execution_count": null,
   "metadata": {},
   "outputs": [],
   "source": []
  },
  {
   "cell_type": "code",
   "execution_count": null,
   "metadata": {},
   "outputs": [],
   "source": []
  },
  {
   "cell_type": "code",
   "execution_count": null,
   "metadata": {},
   "outputs": [],
   "source": []
  },
  {
   "cell_type": "code",
   "execution_count": null,
   "metadata": {},
   "outputs": [],
   "source": []
  },
  {
   "cell_type": "code",
   "execution_count": null,
   "metadata": {},
   "outputs": [],
   "source": []
  },
  {
   "cell_type": "code",
   "execution_count": null,
   "metadata": {},
   "outputs": [],
   "source": []
  },
  {
   "cell_type": "code",
   "execution_count": null,
   "metadata": {},
   "outputs": [],
   "source": []
  },
  {
   "cell_type": "code",
   "execution_count": null,
   "metadata": {},
   "outputs": [],
   "source": []
  },
  {
   "cell_type": "code",
   "execution_count": null,
   "metadata": {},
   "outputs": [],
   "source": []
  },
  {
   "cell_type": "code",
   "execution_count": null,
   "metadata": {},
   "outputs": [],
   "source": []
  },
  {
   "cell_type": "code",
   "execution_count": null,
   "metadata": {},
   "outputs": [],
   "source": []
  },
  {
   "cell_type": "code",
   "execution_count": null,
   "metadata": {},
   "outputs": [],
   "source": []
  }
 ],
 "metadata": {
  "kernelspec": {
   "display_name": "Python 3",
   "language": "python",
   "name": "python3"
  },
  "language_info": {
   "codemirror_mode": {
    "name": "ipython",
    "version": 3
   },
   "file_extension": ".py",
   "mimetype": "text/x-python",
   "name": "python",
   "nbconvert_exporter": "python",
   "pygments_lexer": "ipython3",
   "version": "3.8.5"
  }
 },
 "nbformat": 4,
 "nbformat_minor": 4
}
