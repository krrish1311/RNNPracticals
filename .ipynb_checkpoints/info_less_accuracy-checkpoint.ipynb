{
 "cells": [
  {
   "cell_type": "code",
   "execution_count": 1,
   "metadata": {},
   "outputs": [],
   "source": [
    "import pandas as pd\n",
    "import numpy as np \n",
    "import matplotlib.pyplot as plt "
   ]
  },
  {
   "cell_type": "code",
   "execution_count": 2,
   "metadata": {},
   "outputs": [],
   "source": [
    "dataset = pd.read_csv(\"INFY.NS.csv\")"
   ]
  },
  {
   "cell_type": "code",
   "execution_count": 3,
   "metadata": {},
   "outputs": [],
   "source": [
    "d = dataset.values"
   ]
  },
  {
   "cell_type": "code",
   "execution_count": 4,
   "metadata": {},
   "outputs": [],
   "source": [
    "import seaborn as sns "
   ]
  },
  {
   "cell_type": "code",
   "execution_count": 5,
   "metadata": {},
   "outputs": [
    {
     "data": {
      "text/plain": [
       "<AxesSubplot:>"
      ]
     },
     "execution_count": 5,
     "metadata": {},
     "output_type": "execute_result"
    },
    {
     "data": {
      "image/png": "[encoded data removed]",
      "text/plain": [
       "<Figure size 432x288 with 2 Axes>"
      ]
     },
     "metadata": {
      "needs_background": "light"
     },
     "output_type": "display_data"
    }
   ],
   "source": [
    "sns.heatmap(dataset.isnull())"
   ]
  },
  {
   "cell_type": "code",
   "execution_count": 6,
   "metadata": {},
   "outputs": [],
   "source": [
    "price = dataset['Open']"
   ]
  },
  {
   "cell_type": "code",
   "execution_count": 7,
   "metadata": {},
   "outputs": [],
   "source": [
    "def datagen(data , glance) :\n",
    "    x_t = []\n",
    "    y_t = []\n",
    "    for i in range(len(data) - glance) :\n",
    "        if data[i] is not None :\n",
    "            x_t.append(data[i:i+glance])\n",
    "            y_t.append(data[i+glance])\n",
    "            \n",
    "    return x_t , y_t        "
   ]
  },
  {
   "cell_type": "code",
   "execution_count": 8,
   "metadata": {},
   "outputs": [],
   "source": [
    "price_1 , price_2 = datagen(price , 5)"
   ]
  },
  {
   "cell_type": "code",
   "execution_count": 9,
   "metadata": {},
   "outputs": [
    {
     "data": {
      "text/plain": [
       "list"
      ]
     },
     "execution_count": 9,
     "metadata": {},
     "output_type": "execute_result"
    }
   ],
   "source": [
    "type(price_1 )"
   ]
  },
  {
   "cell_type": "code",
   "execution_count": 25,
   "metadata": {},
   "outputs": [],
   "source": [
    "price_2=np.array(price_2).reshape(-1,1)\n",
    "price_1=np.array(price_1).reshape(-1,1)"
   ]
  },
  {
   "cell_type": "code",
   "execution_count": 11,
   "metadata": {},
   "outputs": [],
   "source": [
    "\"\"\"from sklearn.preprocessing import MinMaxScaler\n",
    "normalizer = MinMaxScaler(feature_range=(0,1))\n",
    "X_train = normalizer.fit_transform(price_1)\n",
    "y_train = normalizer.fit_transform(price_2)\n",
    "X_train = X_train.reshape(246,5,1) \"\"\""
   ]
  },
  {
   "cell_type": "code",
   "execution_count": 12,
   "metadata": {},
   "outputs": [
    {
     "data": {
      "text/plain": [
       "numpy.ndarray"
      ]
     },
     "execution_count": 12,
     "metadata": {},
     "output_type": "execute_result"
    }
   ],
   "source": [
    "type(X_train)"
   ]
  },
  {
   "cell_type": "code",
   "execution_count": 29,
   "metadata": {},
   "outputs": [],
   "source": [
    "price_1 = np.reshape(price_1 , (246,5,1))"
   ]
  },
  {
   "cell_type": "code",
   "execution_count": 30,
   "metadata": {},
   "outputs": [
    {
     "data": {
      "text/plain": [
       "array([[ 755.      ],\n",
       "       [ 765.200012],\n",
       "       [ 769.400024],\n",
       "       [ 784.900024],\n",
       "       [ 780.      ],\n",
       "       [ 773.5     ],\n",
       "       [ 788.      ],\n",
       "       [ 792.950012],\n",
       "       [ 799.      ],\n",
       "       [ 900.099976],\n",
       "       [ 911.      ],\n",
       "       [ 908.5     ],\n",
       "       [ 945.      ],\n",
       "       [ 938.950012],\n",
       "       [ 915.650024],\n",
       "       [ 903.25    ],\n",
       "       [ 921.549988],\n",
       "       [ 946.      ],\n",
       "       [ 953.25    ],\n",
       "       [ 962.      ],\n",
       "       [ 969.25    ],\n",
       "       [ 960.      ],\n",
       "       [ 960.450012],\n",
       "       [ 952.      ],\n",
       "       [ 953.5     ],\n",
       "       [ 969.450012],\n",
       "       [ 948.900024],\n",
       "       [ 949.900024],\n",
       "       [ 948.      ],\n",
       "       [ 954.799988],\n",
       "       [ 955.849976],\n",
       "       [ 954.099976],\n",
       "       [ 963.900024],\n",
       "       [ 970.900024],\n",
       "       [ 958.900024],\n",
       "       [ 963.049988],\n",
       "       [ 947.      ],\n",
       "       [ 947.5     ],\n",
       "       [ 941.25    ],\n",
       "       [ 960.      ],\n",
       "       [ 951.450012],\n",
       "       [ 935.25    ],\n",
       "       [ 926.25    ],\n",
       "       [ 915.      ],\n",
       "       [ 926.5     ],\n",
       "       [ 915.      ],\n",
       "       [ 918.900024],\n",
       "       [ 929.950012],\n",
       "       [ 935.      ],\n",
       "       [ 935.299988],\n",
       "       [ 934.900024],\n",
       "       [ 957.      ],\n",
       "       [ 979.5     ],\n",
       "       [ 986.      ],\n",
       "       [ 995.      ],\n",
       "       [1011.      ],\n",
       "       [1001.      ],\n",
       "       [1009.      ],\n",
       "       [1020.150024],\n",
       "       [1003.      ],\n",
       "       [ 975.799988],\n",
       "       [1014.799988],\n",
       "       [1018.      ],\n",
       "       [1009.      ],\n",
       "       [1020.599976],\n",
       "       [1018.049988],\n",
       "       [1055.      ],\n",
       "       [1044.900024],\n",
       "       [1090.      ],\n",
       "       [1095.099976],\n",
       "       [1123.      ],\n",
       "       [1135.550049],\n",
       "       [1162.      ],\n",
       "       [1180.      ],\n",
       "       [1113.849976],\n",
       "       [1135.      ],\n",
       "       [1118.900024],\n",
       "       [1141.150024],\n",
       "       [1142.      ],\n",
       "       [1133.      ],\n",
       "       [1122.25    ],\n",
       "       [1105.699951],\n",
       "       [1095.5     ],\n",
       "       [1070.      ],\n",
       "       [1072.      ],\n",
       "       [1065.      ],\n",
       "       [1072.      ],\n",
       "       [1068.      ],\n",
       "       [1109.900024],\n",
       "       [1108.      ],\n",
       "       [1129.300049],\n",
       "       [1113.849976],\n",
       "       [1096.      ],\n",
       "       [1128.099976],\n",
       "       [1120.      ],\n",
       "       [        nan],\n",
       "       [1144.75    ],\n",
       "       [1128.5     ],\n",
       "       [1100.      ],\n",
       "       [1106.      ],\n",
       "       [1105.      ],\n",
       "       [1145.      ],\n",
       "       [1137.      ],\n",
       "       [1119.949951],\n",
       "       [1118.      ],\n",
       "       [1105.050049],\n",
       "       [1134.      ],\n",
       "       [1147.      ],\n",
       "       [1125.      ],\n",
       "       [1147.300049],\n",
       "       [1145.      ],\n",
       "       [1168.050049],\n",
       "       [1157.400024],\n",
       "       [1159.699951],\n",
       "       [1169.400024],\n",
       "       [1156.      ],\n",
       "       [1160.      ],\n",
       "       [1165.900024],\n",
       "       [1182.849976],\n",
       "       [1188.      ],\n",
       "       [1182.      ],\n",
       "       [1238.      ],\n",
       "       [1249.900024],\n",
       "       [1238.449951],\n",
       "       [1235.      ],\n",
       "       [1253.      ],\n",
       "       [1243.      ],\n",
       "       [1257.900024],\n",
       "       [1269.      ],\n",
       "       [1282.      ],\n",
       "       [1300.      ],\n",
       "       [1296.      ],\n",
       "       [1278.25    ],\n",
       "       [1342.099976],\n",
       "       [1378.      ],\n",
       "       [1373.849976],\n",
       "       [1360.      ],\n",
       "       [1360.      ],\n",
       "       [1338.      ],\n",
       "       [1320.      ],\n",
       "       [1320.550049],\n",
       "       [1350.      ],\n",
       "       [1327.      ],\n",
       "       [1345.      ],\n",
       "       [1319.599976],\n",
       "       [1291.800049],\n",
       "       [1286.25    ],\n",
       "       [1250.550049],\n",
       "       [1280.      ],\n",
       "       [1277.650024],\n",
       "       [1285.      ],\n",
       "       [1286.400024],\n",
       "       [1285.5     ],\n",
       "       [1306.900024],\n",
       "       [1295.800049],\n",
       "       [1289.      ],\n",
       "       [1305.      ],\n",
       "       [1320.      ],\n",
       "       [1314.      ],\n",
       "       [1290.400024],\n",
       "       [1276.      ],\n",
       "       [1296.099976],\n",
       "       [1295.      ],\n",
       "       [1271.150024],\n",
       "       [1260.050049],\n",
       "       [1288.449951],\n",
       "       [1269.      ],\n",
       "       [1263.300049],\n",
       "       [1282.25    ],\n",
       "       [1319.199951],\n",
       "       [1335.      ],\n",
       "       [1328.5     ],\n",
       "       [1324.800049],\n",
       "       [1329.5     ],\n",
       "       [1356.900024],\n",
       "       [1373.      ],\n",
       "       [1370.      ],\n",
       "       [1386.050049],\n",
       "       [1392.25    ],\n",
       "       [1393.75    ],\n",
       "       [1330.      ],\n",
       "       [1350.099976],\n",
       "       [1372.449951],\n",
       "       [1357.849976],\n",
       "       [1346.75    ],\n",
       "       [1344.699951],\n",
       "       [1346.900024],\n",
       "       [1382.      ],\n",
       "       [1380.      ],\n",
       "       [1391.      ],\n",
       "       [1423.      ],\n",
       "       [1410.25    ],\n",
       "       [1430.      ],\n",
       "       [1455.      ],\n",
       "       [1474.      ],\n",
       "       [1433.      ],\n",
       "       [1332.300049],\n",
       "       [1365.      ],\n",
       "       [1340.      ],\n",
       "       [1379.      ],\n",
       "       [1355.550049],\n",
       "       [1343.      ],\n",
       "       [1332.25    ],\n",
       "       [1346.      ],\n",
       "       [1358.      ],\n",
       "       [1368.      ],\n",
       "       [1346.300049],\n",
       "       [1340.800049],\n",
       "       [1354.      ],\n",
       "       [1341.099976],\n",
       "       [1345.      ],\n",
       "       [1365.300049],\n",
       "       [1349.849976],\n",
       "       [1336.900024],\n",
       "       [1330.      ],\n",
       "       [1326.849976],\n",
       "       [1320.300049],\n",
       "       [1338.      ],\n",
       "       [1342.      ],\n",
       "       [1348.400024],\n",
       "       [1347.5     ],\n",
       "       [1356.650024],\n",
       "       [1358.      ],\n",
       "       [1367.900024],\n",
       "       [1404.199951],\n",
       "       [1409.75    ],\n",
       "       [1401.5     ],\n",
       "       [1400.      ],\n",
       "       [1380.75    ],\n",
       "       [1388.099976],\n",
       "       [1393.949951],\n",
       "       [1391.      ],\n",
       "       [1396.      ],\n",
       "       [1413.400024],\n",
       "       [1424.      ],\n",
       "       [1430.099976],\n",
       "       [1471.      ],\n",
       "       [1464.      ],\n",
       "       [1472.699951],\n",
       "       [1475.099976],\n",
       "       [1509.      ],\n",
       "       [1493.      ],\n",
       "       [1509.699951],\n",
       "       [1525.      ],\n",
       "       [1517.      ],\n",
       "       [1572.      ]])"
      ]
     },
     "execution_count": 30,
     "metadata": {},
     "output_type": "execute_result"
    }
   ],
   "source": [
    "price_2"
   ]
  },
  {
   "cell_type": "code",
   "execution_count": null,
   "metadata": {},
   "outputs": [],
   "source": []
  },
  {
   "cell_type": "code",
   "execution_count": 13,
   "metadata": {},
   "outputs": [
    {
     "data": {
      "text/plain": [
       "(246, 1)"
      ]
     },
     "execution_count": 13,
     "metadata": {},
     "output_type": "execute_result"
    }
   ],
   "source": [
    "y_train.shape"
   ]
  },
  {
   "cell_type": "code",
   "execution_count": 14,
   "metadata": {},
   "outputs": [
    {
     "data": {
      "text/plain": [
       "(246, 5, 1)"
      ]
     },
     "execution_count": 14,
     "metadata": {},
     "output_type": "execute_result"
    }
   ],
   "source": [
    "X_train.shape"
   ]
  },
  {
   "cell_type": "code",
   "execution_count": 15,
   "metadata": {},
   "outputs": [],
   "source": [
    "from keras.models import Sequential\n",
    "mind = Sequential()"
   ]
  },
  {
   "cell_type": "code",
   "execution_count": 16,
   "metadata": {},
   "outputs": [],
   "source": [
    "from keras.layers import LSTM"
   ]
  },
  {
   "cell_type": "code",
   "execution_count": 17,
   "metadata": {},
   "outputs": [],
   "source": [
    "from keras.layers  import Dense"
   ]
  },
  {
   "cell_type": "code",
   "execution_count": 18,
   "metadata": {},
   "outputs": [],
   "source": [
    "mind.add(LSTM(units=521, return_sequences = True))"
   ]
  },
  {
   "cell_type": "code",
   "execution_count": 19,
   "metadata": {},
   "outputs": [],
   "source": [
    "mind.add(LSTM(units=128))"
   ]
  },
  {
   "cell_type": "code",
   "execution_count": 20,
   "metadata": {},
   "outputs": [],
   "source": [
    "mind.add(Dense(units = 64, activation = 'relu' ))"
   ]
  },
  {
   "cell_type": "code",
   "execution_count": 21,
   "metadata": {},
   "outputs": [],
   "source": [
    "mind.add(Dense(units = 32, activation = 'relu' ))"
   ]
  },
  {
   "cell_type": "code",
   "execution_count": 22,
   "metadata": {},
   "outputs": [],
   "source": [
    "mind.add(Dense(units = 1, activation = 'linear' ))"
   ]
  },
  {
   "cell_type": "code",
   "execution_count": 23,
   "metadata": {},
   "outputs": [],
   "source": [
    "mind.compile(optimizer='rmsprop' , loss = 'mean_squared_error')"
   ]
  },
  {
   "cell_type": "code",
   "execution_count": 31,
   "metadata": {},
   "outputs": [
    {
     "name": "stdout",
     "output_type": "stream",
     "text": [
      "Epoch 1/50\n",
      "8/8 [==============================] - 1s 79ms/step - loss: nan\n",
      "Epoch 2/50\n",
      "8/8 [==============================] - 1s 63ms/step - loss: nan\n",
      "Epoch 3/50\n",
      "8/8 [==============================] - 0s 61ms/step - loss: nan\n",
      "Epoch 4/50\n",
      "8/8 [==============================] - 0s 56ms/step - loss: nan\n",
      "Epoch 5/50\n",
      "8/8 [==============================] - 0s 58ms/step - loss: nan\n",
      "Epoch 6/50\n",
      "8/8 [==============================] - 0s 59ms/step - loss: nan\n",
      "Epoch 7/50\n",
      "8/8 [==============================] - 0s 58ms/step - loss: nan\n",
      "Epoch 8/50\n",
      "8/8 [==============================] - 0s 60ms/step - loss: nan\n",
      "Epoch 9/50\n",
      "8/8 [==============================] - 0s 61ms/step - loss: nan\n",
      "Epoch 10/50\n",
      "8/8 [==============================] - 0s 61ms/step - loss: nan\n",
      "Epoch 11/50\n",
      "8/8 [==============================] - 0s 61ms/step - loss: nan\n",
      "Epoch 12/50\n",
      "8/8 [==============================] - ETA: 0s - loss: n - 1s 63ms/step - loss: nan\n",
      "Epoch 13/50\n",
      "8/8 [==============================] - 0s 60ms/step - loss: nan\n",
      "Epoch 14/50\n",
      "8/8 [==============================] - 0s 62ms/step - loss: nan\n",
      "Epoch 15/50\n",
      "8/8 [==============================] - 0s 62ms/step - loss: nan\n",
      "Epoch 16/50\n",
      "8/8 [==============================] - 0s 62ms/step - loss: nan\n",
      "Epoch 17/50\n",
      "8/8 [==============================] - 0s 58ms/step - loss: nan\n",
      "Epoch 18/50\n",
      "8/8 [==============================] - 0s 61ms/step - loss: nan\n",
      "Epoch 19/50\n",
      "8/8 [==============================] - 0s 61ms/step - loss: nan\n",
      "Epoch 20/50\n",
      "8/8 [==============================] - 0s 62ms/step - loss: nan\n",
      "Epoch 21/50\n",
      "8/8 [==============================] - 0s 59ms/step - loss: nan\n",
      "Epoch 22/50\n",
      "8/8 [==============================] - 0s 62ms/step - loss: nan\n",
      "Epoch 23/50\n",
      "8/8 [==============================] - 0s 59ms/step - loss: nan\n",
      "Epoch 24/50\n",
      "8/8 [==============================] - 1s 64ms/step - loss: nan\n",
      "Epoch 25/50\n",
      "8/8 [==============================] - 0s 60ms/step - loss: nan\n",
      "Epoch 26/50\n",
      "8/8 [==============================] - 0s 61ms/step - loss: nan\n",
      "Epoch 27/50\n",
      "8/8 [==============================] - 0s 59ms/step - loss: nan\n",
      "Epoch 28/50\n",
      "8/8 [==============================] - 1s 62ms/step - loss: nan\n",
      "Epoch 29/50\n",
      "8/8 [==============================] - 0s 60ms/step - loss: nan\n",
      "Epoch 30/50\n",
      "8/8 [==============================] - 0s 61ms/step - loss: nan\n",
      "Epoch 31/50\n",
      "8/8 [==============================] - 0s 62ms/step - loss: nan\n",
      "Epoch 32/50\n",
      "8/8 [==============================] - 0s 61ms/step - loss: nan\n",
      "Epoch 33/50\n",
      "8/8 [==============================] - 0s 61ms/step - loss: nan\n",
      "Epoch 34/50\n",
      "8/8 [==============================] - 1s 64ms/step - loss: nan\n",
      "Epoch 35/50\n",
      "8/8 [==============================] - 0s 61ms/step - loss: nan\n",
      "Epoch 36/50\n",
      "8/8 [==============================] - 0s 62ms/step - loss: nan\n",
      "Epoch 37/50\n",
      "8/8 [==============================] - 1s 67ms/step - loss: nan\n",
      "Epoch 38/50\n",
      "8/8 [==============================] - 1s 71ms/step - loss: nan\n",
      "Epoch 39/50\n",
      "8/8 [==============================] - 0s 62ms/step - loss: nan\n",
      "Epoch 40/50\n",
      "8/8 [==============================] - 1s 68ms/step - loss: nan\n",
      "Epoch 41/50\n",
      "8/8 [==============================] - 1s 67ms/step - loss: nan\n",
      "Epoch 42/50\n",
      "8/8 [==============================] - 1s 67ms/step - loss: nan\n",
      "Epoch 43/50\n",
      "8/8 [==============================] - 1s 64ms/step - loss: nan\n",
      "Epoch 44/50\n",
      "8/8 [==============================] - 1s 71ms/step - loss: nan\n",
      "Epoch 45/50\n",
      "8/8 [==============================] - 1s 68ms/step - loss: nan\n",
      "Epoch 46/50\n",
      "8/8 [==============================] - 0s 62ms/step - loss: nan\n",
      "Epoch 47/50\n",
      "8/8 [==============================] - 0s 61ms/step - loss: nan\n",
      "Epoch 48/50\n",
      "8/8 [==============================] - 1s 64ms/step - loss: nan\n",
      "Epoch 49/50\n",
      "8/8 [==============================] - 1s 67ms/step - loss: nan\n",
      "Epoch 50/50\n",
      "8/8 [==============================] - 1s 64ms/step - loss: nan\n"
     ]
    },
    {
     "data": {
      "text/plain": [
       "<keras.callbacks.History at 0x2b04ba63940>"
      ]
     },
     "execution_count": 31,
     "metadata": {},
     "output_type": "execute_result"
    }
   ],
   "source": [
    "mind.fit(price_1, price_2 , epochs = 50)"
   ]
  },
  {
   "cell_type": "code",
   "execution_count": null,
   "metadata": {},
   "outputs": [],
   "source": [
    "type(y_train)"
   ]
  },
  {
   "cell_type": "code",
   "execution_count": null,
   "metadata": {},
   "outputs": [],
   "source": [
    "mind.predict(X_train)"
   ]
  },
  {
   "cell_type": "code",
   "execution_count": null,
   "metadata": {},
   "outputs": [],
   "source": []
  },
  {
   "cell_type": "code",
   "execution_count": null,
   "metadata": {},
   "outputs": [],
   "source": []
  },
  {
   "cell_type": "code",
   "execution_count": null,
   "metadata": {},
   "outputs": [],
   "source": []
  },
  {
   "cell_type": "code",
   "execution_count": null,
   "metadata": {},
   "outputs": [],
   "source": []
  },
  {
   "cell_type": "code",
   "execution_count": null,
   "metadata": {},
   "outputs": [],
   "source": []
  },
  {
   "cell_type": "code",
   "execution_count": null,
   "metadata": {},
   "outputs": [],
   "source": []
  },
  {
   "cell_type": "code",
   "execution_count": null,
   "metadata": {},
   "outputs": [],
   "source": []
  },
  {
   "cell_type": "code",
   "execution_count": null,
   "metadata": {},
   "outputs": [],
   "source": []
  },
  {
   "cell_type": "code",
   "execution_count": null,
   "metadata": {},
   "outputs": [],
   "source": []
  },
  {
   "cell_type": "code",
   "execution_count": null,
   "metadata": {},
   "outputs": [],
   "source": []
  },
  {
   "cell_type": "code",
   "execution_count": null,
   "metadata": {},
   "outputs": [],
   "source": []
  },
  {
   "cell_type": "code",
   "execution_count": null,
   "metadata": {},
   "outputs": [],
   "source": []
  },
  {
   "cell_type": "code",
   "execution_count": null,
   "metadata": {},
   "outputs": [],
   "source": []
  },
  {
   "cell_type": "code",
   "execution_count": null,
   "metadata": {},
   "outputs": [],
   "source": []
  },
  {
   "cell_type": "code",
   "execution_count": null,
   "metadata": {},
   "outputs": [],
   "source": []
  },
  {
   "cell_type": "code",
   "execution_count": null,
   "metadata": {},
   "outputs": [],
   "source": []
  },
  {
   "cell_type": "code",
   "execution_count": null,
   "metadata": {},
   "outputs": [],
   "source": []
  },
  {
   "cell_type": "code",
   "execution_count": null,
   "metadata": {},
   "outputs": [],
   "source": []
  }
 ],
 "metadata": {
  "kernelspec": {
   "display_name": "Python 3",
   "language": "python",
   "name": "python3"
  },
  "language_info": {
   "codemirror_mode": {
    "name": "ipython",
    "version": 3
   },
   "file_extension": ".py",
   "mimetype": "text/x-python",
   "name": "python",
   "nbconvert_exporter": "python",
   "pygments_lexer": "ipython3",
   "version": "3.8.5"
  }
 },
 "nbformat": 4,
 "nbformat_minor": 4
}
